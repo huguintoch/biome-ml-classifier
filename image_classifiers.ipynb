{
 "cells": [
  {
   "cell_type": "code",
   "execution_count": null,
   "metadata": {},
   "outputs": [],
   "source": [
    "%pip install scikit-learn scikit-image numpy matplotlib"
   ]
  },
  {
   "cell_type": "code",
   "execution_count": null,
   "metadata": {},
   "outputs": [],
   "source": [
    "# FEATURE EXTRACTION #\n",
    "\n",
    "import numpy as np\n",
    "from skimage import io\n",
    "from skimage.feature import graycomatrix, graycoprops\n",
    "from skimage.color import rgb2gray\n",
    "from skimage import img_as_ubyte\n",
    "\n",
    "def extract_color_features(image):\n",
    "    # RGB histograms\n",
    "    nbins = 16\n",
    "    rh = np.histogram(image[:,:,0].flatten(), nbins, density = True)\n",
    "    gh = np.histogram(image[:,:,1].flatten(), nbins, density = True)\n",
    "    bh = np.histogram(image[:,:,2].flatten(), nbins, density = True)\n",
    "\n",
    "    # Mean and standard deviation of RGB channels\n",
    "    r_mean = np.mean(image[:,:,0])\n",
    "    g_mean = np.mean(image[:,:,1])\n",
    "    b_mean = np.mean(image[:,:,2])\n",
    "    r_std = np.std(image[:,:,0])\n",
    "    g_std = np.std(image[:,:,1])\n",
    "    b_std = np.std(image[:,:,2])\n",
    "\n",
    "    return np.concatenate((rh[0], gh[0], bh[0], [r_mean, g_mean, b_mean, r_std, g_std, b_std]))\n",
    "\n",
    "def extract_texture_features(image):\n",
    "    # Convert to grayscale amd unsigned byte\n",
    "    gray = img_as_ubyte(rgb2gray(image))\n",
    "\n",
    "    # Extract texture-related features\n",
    "    glcm = graycomatrix(gray, [5], [0], 256, symmetric=True, normed=True)\n",
    "    contrast = graycoprops(glcm, 'contrast')\n",
    "    dissimilarity = graycoprops(glcm, 'dissimilarity')\n",
    "    homogeneity = graycoprops(glcm, 'homogeneity')\n",
    "    energy = graycoprops(glcm, 'energy')\n",
    "    correlation = graycoprops(glcm, 'correlation')\n",
    "    asm = graycoprops(glcm, 'ASM')\n",
    "\n",
    "    return np.concatenate((contrast[0], dissimilarity[0], homogeneity[0], energy[0], correlation[0], asm[0]))\n",
    "\n",
    "# Load images\n",
    "resized_images_by_biomes = np.load(\"resized_images_by_biomes.npy\", allow_pickle=True).item()\n",
    "\n",
    "# Extract features\n",
    "x = []\n",
    "y = []\n",
    "for biome, images in resized_images_by_biomes.items():\n",
    "    for image in images:\n",
    "        color_features = extract_color_features(image)\n",
    "        texture_features = extract_texture_features(image)\n",
    "        x.append(np.concatenate((color_features, texture_features)))\n",
    "        y.append(biome)\n",
    "\n",
    "# Convert to numpy arrays\n",
    "x = np.array(x)\n",
    "y = np.array(y)"
   ]
  },
  {
   "cell_type": "code",
   "execution_count": null,
   "metadata": {},
   "outputs": [],
   "source": [
    "# HELPER METHOD #\n",
    "\n",
    "from sklearn.model_selection import StratifiedKFold\n",
    "from sklearn.metrics import confusion_matrix\n",
    "\n",
    "def train_model(x, y, model):\n",
    "    # 5-fold cross-validation\n",
    "    kf = StratifiedKFold(n_splits=5, shuffle = True)\n",
    "\n",
    "    acc = 0\n",
    "    recall = np.array([0., 0., 0., 0., 0., 0.])\n",
    "    precision = np.array([0., 0., 0., 0., 0., 0.])\n",
    "\n",
    "    for train_index, test_index in kf.split(x, y):\n",
    "        # Training phase\n",
    "        x_train = x[train_index, :]\n",
    "        y_train = y[train_index]\n",
    "        model.fit(x_train, y_train)\n",
    "\n",
    "        # Test phase\n",
    "        x_test = x[test_index, :]\n",
    "        y_test = y[test_index]    \n",
    "        y_pred = model.predict(x_test)\n",
    "\n",
    "        # Calculate confusion matrix and model performance\n",
    "        cm = confusion_matrix(y_test, y_pred)\n",
    "        \n",
    "        acc += (cm[0,0]+cm[1,1]+cm[2,2]+cm[3,3]+cm[4,4]+cm[5,5])/len(y_test)    \n",
    "\n",
    "        recall[0] += cm[0,0]/(cm[0,0] + cm[0,1] + cm[0,2] + cm[0,3] + cm[0,4] + cm[0,5])\n",
    "        recall[1] += cm[1,1]/(cm[1,0] + cm[1,1] + cm[1,2] + cm[1,3] + cm[1,4] + cm[1,5])\n",
    "        recall[2] += cm[2,2]/(cm[2,0] + cm[2,1] + cm[2,2] + cm[2,3] + cm[2,4] + cm[2,5])\n",
    "        recall[3] += cm[3,3]/(cm[3,0] + cm[3,1] + cm[3,2] + cm[3,3] + cm[3,4] + cm[3,5])\n",
    "        recall[4] += cm[4,4]/(cm[4,0] + cm[4,1] + cm[4,2] + cm[4,3] + cm[4,4] + cm[4,5])\n",
    "        recall[5] += cm[5,5]/(cm[5,0] + cm[5,1] + cm[5,2] + cm[5,3] + cm[5,4] + cm[5,5])\n",
    "\n",
    "        precision[0] += cm[0,0]/(cm[0,0] + cm[1,0] + cm[2,0] + cm[3,0] + cm[4,0] + cm[5,0])\n",
    "        precision[1] += cm[1,1]/(cm[0,1] + cm[1,1] + cm[2,1] + cm[3,1] + cm[4,1] + cm[5,1])\n",
    "        precision[2] += cm[2,2]/(cm[0,2] + cm[1,2] + cm[2,2] + cm[3,2] + cm[4,2] + cm[5,2])\n",
    "        precision[3] += cm[3,3]/(cm[0,3] + cm[1,3] + cm[2,3] + cm[3,3] + cm[4,3] + cm[5,3])\n",
    "        precision[4] += cm[4,4]/(cm[0,4] + cm[1,4] + cm[2,4] + cm[3,4] + cm[4,4] + cm[5,4])\n",
    "        precision[5] += cm[5,5]/(cm[0,5] + cm[1,5] + cm[2,5] + cm[3,5] + cm[4,5] + cm[5,5])\n",
    "\n",
    "    # Print results\n",
    "    print(\"Model: \", model.__class__.__name__)\n",
    "\n",
    "    acc = acc/5\n",
    "    print('Accuracy: ', acc)\n",
    "\n",
    "    precision = precision/5\n",
    "    print('Precision: ', precision)\n",
    "\n",
    "    recall = recall/5\n",
    "    print('Recall: ', recall)\n",
    "\n",
    "    print('\\n')"
   ]
  },
  {
   "cell_type": "code",
   "execution_count": null,
   "metadata": {},
   "outputs": [],
   "source": [
    "# Linear SVM\n",
    "from sklearn import svm\n",
    "svm_model = svm.SVC(kernel='linear')\n",
    "train_model(x, y, svm_model)"
   ]
  },
  {
   "cell_type": "code",
   "execution_count": null,
   "metadata": {},
   "outputs": [],
   "source": [
    "# Radial SVM\n",
    "from sklearn import svm\n",
    "svm_model = svm.SVC(kernel='rbf')\n",
    "train_model(x, y, svm_model)"
   ]
  },
  {
   "cell_type": "code",
   "execution_count": null,
   "metadata": {},
   "outputs": [],
   "source": [
    "# KNN\n",
    "from sklearn.neighbors import KNeighborsClassifier\n",
    "knn_model = KNeighborsClassifier(n_neighbors=5)\n",
    "train_model(x, y, knn_model)"
   ]
  },
  {
   "cell_type": "code",
   "execution_count": null,
   "metadata": {},
   "outputs": [],
   "source": [
    "# Decision Tree\n",
    "from sklearn.tree import DecisionTreeClassifier\n",
    "dt_model = DecisionTreeClassifier()\n",
    "train_model(x, y, dt_model)"
   ]
  }
 ],
 "metadata": {
  "kernelspec": {
   "display_name": "Python 3.10.7 64-bit",
   "language": "python",
   "name": "python3"
  },
  "language_info": {
   "codemirror_mode": {
    "name": "ipython",
    "version": 3
   },
   "file_extension": ".py",
   "mimetype": "text/x-python",
   "name": "python",
   "nbconvert_exporter": "python",
   "pygments_lexer": "ipython3",
   "version": "3.10.7"
  },
  "orig_nbformat": 4,
  "vscode": {
   "interpreter": {
    "hash": "675b6d24bb4c0ee360e3c67ebb7cf09ed327ad783031eee38395f7e34ef2a5d6"
   }
  }
 },
 "nbformat": 4,
 "nbformat_minor": 2
}
