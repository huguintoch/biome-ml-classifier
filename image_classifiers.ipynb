{
 "cells": [
  {
   "cell_type": "code",
   "execution_count": 2,
   "metadata": {},
   "outputs": [
    {
     "name": "stdout",
     "output_type": "stream",
     "text": [
      "Requirement already satisfied: scikit-learn in c:\\users\\hugoi\\appdata\\local\\programs\\python\\python310\\lib\\site-packages (1.1.2)\n",
      "Requirement already satisfied: scikit-image in c:\\users\\hugoi\\appdata\\local\\programs\\python\\python310\\lib\\site-packages (0.19.3)\n",
      "Requirement already satisfied: numpy in c:\\users\\hugoi\\appdata\\local\\programs\\python\\python310\\lib\\site-packages (1.23.3)\n",
      "Requirement already satisfied: matplotlib in c:\\users\\hugoi\\appdata\\local\\programs\\python\\python310\\lib\\site-packages (3.6.0)\n",
      "Requirement already satisfied: scipy>=1.3.2 in c:\\users\\hugoi\\appdata\\local\\programs\\python\\python310\\lib\\site-packages (from scikit-learn) (1.9.1)\n",
      "Requirement already satisfied: threadpoolctl>=2.0.0 in c:\\users\\hugoi\\appdata\\local\\programs\\python\\python310\\lib\\site-packages (from scikit-learn) (3.1.0)\n",
      "Requirement already satisfied: joblib>=1.0.0 in c:\\users\\hugoi\\appdata\\local\\programs\\python\\python310\\lib\\site-packages (from scikit-learn) (1.2.0)\n",
      "Requirement already satisfied: networkx>=2.2 in c:\\users\\hugoi\\appdata\\local\\programs\\python\\python310\\lib\\site-packages (from scikit-image) (2.8.8)\n",
      "Requirement already satisfied: pillow!=7.1.0,!=7.1.1,!=8.3.0,>=6.1.0 in c:\\users\\hugoi\\appdata\\local\\programs\\python\\python310\\lib\\site-packages (from scikit-image) (9.2.0)\n",
      "Requirement already satisfied: tifffile>=2019.7.26 in c:\\users\\hugoi\\appdata\\local\\programs\\python\\python310\\lib\\site-packages (from scikit-image) (2022.10.10)\n",
      "Requirement already satisfied: PyWavelets>=1.1.1 in c:\\users\\hugoi\\appdata\\local\\programs\\python\\python310\\lib\\site-packages (from scikit-image) (1.4.1)\n",
      "Requirement already satisfied: imageio>=2.4.1 in c:\\users\\hugoi\\appdata\\local\\programs\\python\\python310\\lib\\site-packages (from scikit-image) (2.22.3)\n",
      "Requirement already satisfied: packaging>=20.0 in c:\\users\\hugoi\\appdata\\roaming\\python\\python310\\site-packages (from scikit-image) (21.3)\n",
      "Requirement already satisfied: fonttools>=4.22.0 in c:\\users\\hugoi\\appdata\\local\\programs\\python\\python310\\lib\\site-packages (from matplotlib) (4.37.3)\n",
      "Requirement already satisfied: python-dateutil>=2.7 in c:\\users\\hugoi\\appdata\\roaming\\python\\python310\\site-packages (from matplotlib) (2.8.2)\n",
      "Requirement already satisfied: pyparsing>=2.2.1 in c:\\users\\hugoi\\appdata\\roaming\\python\\python310\\site-packages (from matplotlib) (3.0.9)\n",
      "Requirement already satisfied: cycler>=0.10 in c:\\users\\hugoi\\appdata\\local\\programs\\python\\python310\\lib\\site-packages (from matplotlib) (0.11.0)\n",
      "Requirement already satisfied: contourpy>=1.0.1 in c:\\users\\hugoi\\appdata\\local\\programs\\python\\python310\\lib\\site-packages (from matplotlib) (1.0.5)\n",
      "Requirement already satisfied: kiwisolver>=1.0.1 in c:\\users\\hugoi\\appdata\\local\\programs\\python\\python310\\lib\\site-packages (from matplotlib) (1.4.4)\n",
      "Requirement already satisfied: six>=1.5 in c:\\users\\hugoi\\appdata\\roaming\\python\\python310\\site-packages (from python-dateutil>=2.7->matplotlib) (1.16.0)\n",
      "Note: you may need to restart the kernel to use updated packages.\n"
     ]
    },
    {
     "name": "stderr",
     "output_type": "stream",
     "text": [
      "\n",
      "[notice] A new release of pip available: 22.3 -> 22.3.1\n",
      "[notice] To update, run: python.exe -m pip install --upgrade pip\n"
     ]
    }
   ],
   "source": [
    "pip install scikit-learn scikit-image numpy matplotlib"
   ]
  },
  {
   "cell_type": "code",
   "execution_count": 3,
   "metadata": {},
   "outputs": [],
   "source": [
    "# FEATURE EXTRACTION #\n",
    "\n",
    "import numpy as np\n",
    "from skimage import io\n",
    "from skimage.feature import graycomatrix, graycoprops\n",
    "from skimage.color import rgb2gray\n",
    "from skimage import img_as_ubyte\n",
    "\n",
    "def extract_color_features(image):\n",
    "    # RGB histograms\n",
    "    nbins = 16\n",
    "    rh = np.histogram(image[:,:,0].flatten(), nbins, density = True)\n",
    "    gh = np.histogram(image[:,:,1].flatten(), nbins, density = True)\n",
    "    bh = np.histogram(image[:,:,2].flatten(), nbins, density = True)\n",
    "\n",
    "    # Mean and standard deviation of RGB channels\n",
    "    r_mean = np.mean(image[:,:,0])\n",
    "    g_mean = np.mean(image[:,:,1])\n",
    "    b_mean = np.mean(image[:,:,2])\n",
    "    r_std = np.std(image[:,:,0])\n",
    "    g_std = np.std(image[:,:,1])\n",
    "    b_std = np.std(image[:,:,2])\n",
    "\n",
    "    return np.concatenate((rh[0], gh[0], bh[0], [r_mean, g_mean, b_mean, r_std, g_std, b_std]))\n",
    "\n",
    "def extract_texture_features(image):\n",
    "    # Convert to grayscale amd unsigned byte\n",
    "    gray = img_as_ubyte(rgb2gray(image))\n",
    "\n",
    "    # Extract texture-related features\n",
    "    glcm = graycomatrix(gray, [5], [0], 256, symmetric=True, normed=True)\n",
    "    contrast = graycoprops(glcm, 'contrast')\n",
    "    dissimilarity = graycoprops(glcm, 'dissimilarity')\n",
    "    homogeneity = graycoprops(glcm, 'homogeneity')\n",
    "    energy = graycoprops(glcm, 'energy')\n",
    "    correlation = graycoprops(glcm, 'correlation')\n",
    "    asm = graycoprops(glcm, 'ASM')\n",
    "\n",
    "    return np.concatenate((contrast[0], dissimilarity[0], homogeneity[0], energy[0], correlation[0], asm[0]))\n",
    "\n",
    "# Load images\n",
    "resized_images_by_biomes = np.load(\"resized_images_by_biomes.npy\", allow_pickle=True).item()\n",
    "\n",
    "# Extract features\n",
    "x = []\n",
    "y = []\n",
    "for biome, images in resized_images_by_biomes.items():\n",
    "    for image in images:\n",
    "        color_features = extract_color_features(image)\n",
    "        texture_features = extract_texture_features(image)\n",
    "        x.append(np.concatenate((color_features, texture_features)))\n",
    "        y.append(biome)\n",
    "\n",
    "# Convert to numpy arrays\n",
    "x = np.array(x)\n",
    "y = np.array(y)"
   ]
  },
  {
   "cell_type": "code",
   "execution_count": 4,
   "metadata": {},
   "outputs": [],
   "source": [
    "# HELPER METHOD #\n",
    "\n",
    "from sklearn.model_selection import StratifiedKFold\n",
    "from sklearn.metrics import confusion_matrix\n",
    "\n",
    "def train_model(x, y, model):\n",
    "    # 5-fold cross-validation\n",
    "    kf = StratifiedKFold(n_splits=5, shuffle = True)\n",
    "\n",
    "    acc = 0\n",
    "    recall = np.array([0., 0., 0., 0., 0., 0.])\n",
    "    precision = np.array([0., 0., 0., 0., 0., 0.])\n",
    "\n",
    "    for train_index, test_index in kf.split(x, y):\n",
    "        # Training phase\n",
    "        x_train = x[train_index, :]\n",
    "        y_train = y[train_index]\n",
    "        model.fit(x_train, y_train)\n",
    "\n",
    "        # Test phase\n",
    "        x_test = x[test_index, :]\n",
    "        y_test = y[test_index]    \n",
    "        y_pred = model.predict(x_test)\n",
    "\n",
    "        # Calculate confusion matrix and model performance\n",
    "        cm = confusion_matrix(y_test, y_pred)\n",
    "        \n",
    "        acc += (cm[0,0]+cm[1,1]+cm[2,2]+cm[3,3]+cm[4,4]+cm[5,5])/len(y_test)    \n",
    "\n",
    "        recall[0] += cm[0,0]/(cm[0,0] + cm[0,1] + cm[0,2] + cm[0,3] + cm[0,4] + cm[0,5])\n",
    "        recall[1] += cm[1,1]/(cm[1,0] + cm[1,1] + cm[1,2] + cm[1,3] + cm[1,4] + cm[1,5])\n",
    "        recall[2] += cm[2,2]/(cm[2,0] + cm[2,1] + cm[2,2] + cm[2,3] + cm[2,4] + cm[2,5])\n",
    "        recall[3] += cm[3,3]/(cm[3,0] + cm[3,1] + cm[3,2] + cm[3,3] + cm[3,4] + cm[3,5])\n",
    "        recall[4] += cm[4,4]/(cm[4,0] + cm[4,1] + cm[4,2] + cm[4,3] + cm[4,4] + cm[4,5])\n",
    "        recall[5] += cm[5,5]/(cm[5,0] + cm[5,1] + cm[5,2] + cm[5,3] + cm[5,4] + cm[5,5])\n",
    "\n",
    "        precision[0] += cm[0,0]/(cm[0,0] + cm[1,0] + cm[2,0] + cm[3,0] + cm[4,0] + cm[5,0])\n",
    "        precision[1] += cm[1,1]/(cm[0,1] + cm[1,1] + cm[2,1] + cm[3,1] + cm[4,1] + cm[5,1])\n",
    "        precision[2] += cm[2,2]/(cm[0,2] + cm[1,2] + cm[2,2] + cm[3,2] + cm[4,2] + cm[5,2])\n",
    "        precision[3] += cm[3,3]/(cm[0,3] + cm[1,3] + cm[2,3] + cm[3,3] + cm[4,3] + cm[5,3])\n",
    "        precision[4] += cm[4,4]/(cm[0,4] + cm[1,4] + cm[2,4] + cm[3,4] + cm[4,4] + cm[5,4])\n",
    "        precision[5] += cm[5,5]/(cm[0,5] + cm[1,5] + cm[2,5] + cm[3,5] + cm[4,5] + cm[5,5])\n",
    "\n",
    "    # Print results\n",
    "    print(\"Model: \", model.__class__.__name__)\n",
    "\n",
    "    acc = acc/5\n",
    "    print('Accuracy: ', acc)\n",
    "\n",
    "    precision = precision/5\n",
    "    print('Precision: ', precision)\n",
    "\n",
    "    recall = recall/5\n",
    "    print('Recall: ', recall)\n",
    "\n",
    "    print('\\n')"
   ]
  },
  {
   "cell_type": "code",
   "execution_count": 5,
   "metadata": {},
   "outputs": [
    {
     "name": "stdout",
     "output_type": "stream",
     "text": [
      "Model:  SVC\n",
      "Accuracy:  0.8487163108370389\n",
      "Precision:  [0.83091152 0.86418793 0.83120273 0.79676969 0.93577902 0.84511364]\n",
      "Recall:  [0.88656716 0.84477612 0.94929763 0.74549977 0.88638625 0.78086104]\n",
      "\n",
      "\n"
     ]
    }
   ],
   "source": [
    "# Linear SVM\n",
    "from sklearn import svm\n",
    "svm_model = svm.SVC(kernel='linear')\n",
    "train_model(x, y, svm_model)"
   ]
  },
  {
   "cell_type": "code",
   "execution_count": 7,
   "metadata": {},
   "outputs": [
    {
     "name": "stdout",
     "output_type": "stream",
     "text": [
      "Model:  KNeighborsClassifier\n",
      "Accuracy:  0.5863032208928088\n",
      "Precision:  [0.72061178 0.73756628 0.57230004 0.40414717 0.79841433 0.38984911]\n",
      "Recall:  [0.6358209  0.72537313 0.71132572 0.37127996 0.62247852 0.45353794]\n",
      "\n",
      "\n"
     ]
    }
   ],
   "source": [
    "# KNN\n",
    "from sklearn.neighbors import KNeighborsClassifier\n",
    "knn_model = KNeighborsClassifier(n_neighbors=5)\n",
    "train_model(x, y, knn_model)"
   ]
  },
  {
   "cell_type": "code",
   "execution_count": 8,
   "metadata": {},
   "outputs": [
    {
     "name": "stdout",
     "output_type": "stream",
     "text": [
      "Model:  DecisionTreeClassifier\n",
      "Accuracy:  0.8090288185146057\n",
      "Precision:  [0.84592127 0.83273288 0.82119828 0.7057243  0.92477707 0.73970084]\n",
      "Recall:  [0.84179104 0.80298507 0.86308165 0.64066033 0.90099502 0.80379369]\n",
      "\n",
      "\n"
     ]
    }
   ],
   "source": [
    "# Decision Tree\n",
    "from sklearn.tree import DecisionTreeClassifier\n",
    "dt_model = DecisionTreeClassifier()\n",
    "train_model(x, y, dt_model)"
   ]
  },
  {
   "cell_type": "code",
   "execution_count": 9,
   "metadata": {},
   "outputs": [
    {
     "name": "stdout",
     "output_type": "stream",
     "text": [
      "Model:  RandomForestClassifier\n",
      "Accuracy:  0.8943456256295604\n",
      "Precision:  [0.93160675 0.90355409 0.92563097 0.82595039 0.9423993  0.85114742]\n",
      "Recall:  [0.88955224 0.89552239 0.9046532  0.84147445 0.96404342 0.87144075]\n",
      "\n",
      "\n"
     ]
    }
   ],
   "source": [
    "# Random Forest\n",
    "from sklearn.ensemble import RandomForestClassifier\n",
    "rf_model = RandomForestClassifier(n_estimators=100)\n",
    "train_model(x, y, rf_model)"
   ]
  }
 ],
 "metadata": {
  "kernelspec": {
   "display_name": "Python 3.10.7 64-bit",
   "language": "python",
   "name": "python3"
  },
  "language_info": {
   "codemirror_mode": {
    "name": "ipython",
    "version": 3
   },
   "file_extension": ".py",
   "mimetype": "text/x-python",
   "name": "python",
   "nbconvert_exporter": "python",
   "pygments_lexer": "ipython3",
   "version": "3.10.7"
  },
  "orig_nbformat": 4,
  "vscode": {
   "interpreter": {
    "hash": "675b6d24bb4c0ee360e3c67ebb7cf09ed327ad783031eee38395f7e34ef2a5d6"
   }
  }
 },
 "nbformat": 4,
 "nbformat_minor": 2
}
