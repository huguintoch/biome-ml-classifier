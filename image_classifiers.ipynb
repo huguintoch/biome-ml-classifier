{
  "cells": [
    {
      "cell_type": "markdown",
      "metadata": {
        "id": "view-in-github",
        "colab_type": "text"
      },
      "source": [
        "<a href=\"https://colab.research.google.com/github/huguintoch/biome-ml-classifier/blob/master/image_classifiers.ipynb\" target=\"_parent\"><img src=\"https://colab.research.google.com/assets/colab-badge.svg\" alt=\"Open In Colab\"/></a>"
      ]
    },
    {
      "cell_type": "code",
      "source": [
        "%pip install scikit-learn scikit-image numpy matplotlib"
      ],
      "metadata": {
        "id": "ZFfF2JIIgAgI",
        "outputId": "d84aede1-f9d3-457a-c719-4c04bd390d86",
        "colab": {
          "base_uri": "https://localhost:8080/"
        }
      },
      "execution_count": 6,
      "outputs": [
        {
          "output_type": "stream",
          "name": "stdout",
          "text": [
            "Looking in indexes: https://pypi.org/simple, https://us-python.pkg.dev/colab-wheels/public/simple/\n",
            "Requirement already satisfied: scikit-learn in /usr/local/lib/python3.7/dist-packages (1.0.2)\n",
            "Requirement already satisfied: scikit-image in /usr/local/lib/python3.7/dist-packages (0.18.3)\n",
            "Requirement already satisfied: numpy in /usr/local/lib/python3.7/dist-packages (1.21.6)\n",
            "Requirement already satisfied: matplotlib in /usr/local/lib/python3.7/dist-packages (3.2.2)\n",
            "Requirement already satisfied: scipy>=1.1.0 in /usr/local/lib/python3.7/dist-packages (from scikit-learn) (1.7.3)\n",
            "Requirement already satisfied: joblib>=0.11 in /usr/local/lib/python3.7/dist-packages (from scikit-learn) (1.2.0)\n",
            "Requirement already satisfied: threadpoolctl>=2.0.0 in /usr/local/lib/python3.7/dist-packages (from scikit-learn) (3.1.0)\n",
            "Requirement already satisfied: tifffile>=2019.7.26 in /usr/local/lib/python3.7/dist-packages (from scikit-image) (2021.11.2)\n",
            "Requirement already satisfied: networkx>=2.0 in /usr/local/lib/python3.7/dist-packages (from scikit-image) (2.6.3)\n",
            "Requirement already satisfied: pillow!=7.1.0,!=7.1.1,>=4.3.0 in /usr/local/lib/python3.7/dist-packages (from scikit-image) (7.1.2)\n",
            "Requirement already satisfied: PyWavelets>=1.1.1 in /usr/local/lib/python3.7/dist-packages (from scikit-image) (1.3.0)\n",
            "Requirement already satisfied: imageio>=2.3.0 in /usr/local/lib/python3.7/dist-packages (from scikit-image) (2.9.0)\n",
            "Requirement already satisfied: python-dateutil>=2.1 in /usr/local/lib/python3.7/dist-packages (from matplotlib) (2.8.2)\n",
            "Requirement already satisfied: cycler>=0.10 in /usr/local/lib/python3.7/dist-packages (from matplotlib) (0.11.0)\n",
            "Requirement already satisfied: kiwisolver>=1.0.1 in /usr/local/lib/python3.7/dist-packages (from matplotlib) (1.4.4)\n",
            "Requirement already satisfied: pyparsing!=2.0.4,!=2.1.2,!=2.1.6,>=2.0.1 in /usr/local/lib/python3.7/dist-packages (from matplotlib) (3.0.9)\n",
            "Requirement already satisfied: typing-extensions in /usr/local/lib/python3.7/dist-packages (from kiwisolver>=1.0.1->matplotlib) (4.1.1)\n",
            "Requirement already satisfied: six>=1.5 in /usr/local/lib/python3.7/dist-packages (from python-dateutil>=2.1->matplotlib) (1.15.0)\n"
          ]
        }
      ]
    },
    {
      "cell_type": "code",
      "execution_count": 7,
      "metadata": {
        "id": "C6rxArq9fLHV",
        "outputId": "0bd528c1-fe01-481d-b005-c2b8b3e79b94",
        "colab": {
          "base_uri": "https://localhost:8080/",
          "height": 389
        }
      },
      "outputs": [
        {
          "output_type": "error",
          "ename": "ImportError",
          "evalue": "ignored",
          "traceback": [
            "\u001b[0;31m---------------------------------------------------------------------------\u001b[0m",
            "\u001b[0;31mImportError\u001b[0m                               Traceback (most recent call last)",
            "\u001b[0;32m<ipython-input-7-1276f8a7bc00>\u001b[0m in \u001b[0;36m<module>\u001b[0;34m\u001b[0m\n\u001b[1;32m      3\u001b[0m \u001b[0;32mimport\u001b[0m \u001b[0mnumpy\u001b[0m \u001b[0;32mas\u001b[0m \u001b[0mnp\u001b[0m\u001b[0;34m\u001b[0m\u001b[0;34m\u001b[0m\u001b[0m\n\u001b[1;32m      4\u001b[0m \u001b[0;32mfrom\u001b[0m \u001b[0mskimage\u001b[0m \u001b[0;32mimport\u001b[0m \u001b[0mio\u001b[0m\u001b[0;34m\u001b[0m\u001b[0;34m\u001b[0m\u001b[0m\n\u001b[0;32m----> 5\u001b[0;31m \u001b[0;32mfrom\u001b[0m \u001b[0mskimage\u001b[0m\u001b[0;34m.\u001b[0m\u001b[0mfeature\u001b[0m \u001b[0;32mimport\u001b[0m \u001b[0mgraycomatrix\u001b[0m\u001b[0;34m,\u001b[0m \u001b[0mgraycoprops\u001b[0m\u001b[0;34m\u001b[0m\u001b[0;34m\u001b[0m\u001b[0m\n\u001b[0m\u001b[1;32m      6\u001b[0m \u001b[0;32mfrom\u001b[0m \u001b[0mskimage\u001b[0m\u001b[0;34m.\u001b[0m\u001b[0mcolor\u001b[0m \u001b[0;32mimport\u001b[0m \u001b[0mrgb2gray\u001b[0m\u001b[0;34m\u001b[0m\u001b[0;34m\u001b[0m\u001b[0m\n\u001b[1;32m      7\u001b[0m \u001b[0;32mfrom\u001b[0m \u001b[0mskimage\u001b[0m \u001b[0;32mimport\u001b[0m \u001b[0mimg_as_ubyte\u001b[0m\u001b[0;34m\u001b[0m\u001b[0;34m\u001b[0m\u001b[0m\n",
            "\u001b[0;31mImportError\u001b[0m: cannot import name 'graycomatrix' from 'skimage.feature' (/usr/local/lib/python3.7/dist-packages/skimage/feature/__init__.py)",
            "",
            "\u001b[0;31m---------------------------------------------------------------------------\u001b[0;32m\nNOTE: If your import is failing due to a missing package, you can\nmanually install dependencies using either !pip or !apt.\n\nTo view examples of installing some common dependencies, click the\n\"Open Examples\" button below.\n\u001b[0;31m---------------------------------------------------------------------------\u001b[0m\n"
          ],
          "errorDetails": {
            "actions": [
              {
                "action": "open_url",
                "actionText": "Open Examples",
                "url": "/notebooks/snippets/importing_libraries.ipynb"
              }
            ]
          }
        }
      ],
      "source": [
        "# FEATURE EXTRACTION #\n",
        "\n",
        "import numpy as np\n",
        "from skimage import io\n",
        "from skimage.feature import greycomatrix, greycoprops\n",
        "from skimage.color import rgb2gray\n",
        "from skimage import img_as_ubyte\n",
        "\n",
        "def extract_color_features(image):\n",
        "    # RGB histograms\n",
        "    nbins = 16\n",
        "    rh = np.histogram(image[:,:,0].flatten(), nbins, density = True)\n",
        "    gh = np.histogram(image[:,:,1].flatten(), nbins, density = True)\n",
        "    bh = np.histogram(image[:,:,2].flatten(), nbins, density = True)\n",
        "\n",
        "    # Mean and standard deviation of RGB channels\n",
        "    r_mean = np.mean(image[:,:,0])\n",
        "    g_mean = np.mean(image[:,:,1])\n",
        "    b_mean = np.mean(image[:,:,2])\n",
        "    r_std = np.std(image[:,:,0])\n",
        "    g_std = np.std(image[:,:,1])\n",
        "    b_std = np.std(image[:,:,2])\n",
        "\n",
        "    return np.concatenate((rh[0], gh[0], bh[0], [r_mean, g_mean, b_mean, r_std, g_std, b_std]))\n",
        "\n",
        "def extract_texture_features(image):\n",
        "    # Convert to grayscale amd unsigned byte\n",
        "    gray = img_as_ubyte(rgb2gray(image))\n",
        "\n",
        "    # Extract texture-related features\n",
        "    glcm = greycomatrix(gray, [5], [0], 256, symmetric=True, normed=True)\n",
        "    contrast = greycoprops(glcm, 'contrast')\n",
        "    dissimilarity = greycoprops(glcm, 'dissimilarity')\n",
        "    homogeneity = greycoprops(glcm, 'homogeneity')\n",
        "    energy = greycoprops(glcm, 'energy')\n",
        "    correlation = greycoprops(glcm, 'correlation')\n",
        "    asm = greycoprops(glcm, 'ASM')\n",
        "\n",
        "    return np.concatenate((contrast[0], dissimilarity[0], homogeneity[0], energy[0], correlation[0], asm[0]))\n",
        "\n",
        "# Load images\n",
        "resized_images_by_biomes = np.load(\"resized_images_by_biomes.npy\", allow_pickle=True).item()\n",
        "\n",
        "# Extract features\n",
        "x = []\n",
        "y = []\n",
        "for biome, images in resized_images_by_biomes.items():\n",
        "    for image in images:\n",
        "        color_features = extract_color_features(image)\n",
        "        texture_features = extract_texture_features(image)\n",
        "        x.append(np.concatenate((color_features, texture_features)))\n",
        "        y.append(biome)\n",
        "\n",
        "# Convert to numpy arrays\n",
        "x = np.array(x)\n",
        "y = np.array(y)"
      ]
    },
    {
      "cell_type": "code",
      "execution_count": null,
      "metadata": {
        "id": "zqjTJQzlfLHW"
      },
      "outputs": [],
      "source": [
        "# HELPER METHOD #\n",
        "\n",
        "from sklearn.model_selection import StratifiedKFold\n",
        "from sklearn.metrics import confusion_matrix\n",
        "\n",
        "def train_model(x, y, model):\n",
        "    # 5-fold cross-validation\n",
        "    kf = StratifiedKFold(n_splits=5, shuffle = True)\n",
        "\n",
        "    acc = 0\n",
        "    recall = np.array([0., 0., 0., 0., 0., 0.])\n",
        "    precision = np.array([0., 0., 0., 0., 0., 0.])\n",
        "\n",
        "    for train_index, test_index in kf.split(x, y):\n",
        "        # Training phase\n",
        "        x_train = x[train_index, :]\n",
        "        y_train = y[train_index]\n",
        "        model.fit(x_train, y_train)\n",
        "\n",
        "        # Test phase\n",
        "        x_test = x[test_index, :]\n",
        "        y_test = y[test_index]    \n",
        "        y_pred = model.predict(x_test)\n",
        "\n",
        "        # Calculate confusion matrix and model performance\n",
        "        cm = confusion_matrix(y_test, y_pred)\n",
        "        \n",
        "        acc += (cm[0,0]+cm[1,1]+cm[2,2]+cm[3,3]+cm[4,4]+cm[5,5])/len(y_test)    \n",
        "\n",
        "        recall[0] += cm[0,0]/(cm[0,0] + cm[0,1] + cm[0,2] + cm[0,3] + cm[0,4] + cm[0,5])\n",
        "        recall[1] += cm[1,1]/(cm[1,0] + cm[1,1] + cm[1,2] + cm[1,3] + cm[1,4] + cm[1,5])\n",
        "        recall[2] += cm[2,2]/(cm[2,0] + cm[2,1] + cm[2,2] + cm[2,3] + cm[2,4] + cm[2,5])\n",
        "        recall[3] += cm[3,3]/(cm[3,0] + cm[3,1] + cm[3,2] + cm[3,3] + cm[3,4] + cm[3,5])\n",
        "        recall[4] += cm[4,4]/(cm[4,0] + cm[4,1] + cm[4,2] + cm[4,3] + cm[4,4] + cm[4,5])\n",
        "        recall[5] += cm[5,5]/(cm[5,0] + cm[5,1] + cm[5,2] + cm[5,3] + cm[5,4] + cm[5,5])\n",
        "\n",
        "        precision[0] += cm[0,0]/(cm[0,0] + cm[1,0] + cm[2,0] + cm[3,0] + cm[4,0] + cm[5,0])\n",
        "        precision[1] += cm[1,1]/(cm[0,1] + cm[1,1] + cm[2,1] + cm[3,1] + cm[4,1] + cm[5,1])\n",
        "        precision[2] += cm[2,2]/(cm[0,2] + cm[1,2] + cm[2,2] + cm[3,2] + cm[4,2] + cm[5,2])\n",
        "        precision[3] += cm[3,3]/(cm[0,3] + cm[1,3] + cm[2,3] + cm[3,3] + cm[4,3] + cm[5,3])\n",
        "        precision[4] += cm[4,4]/(cm[0,4] + cm[1,4] + cm[2,4] + cm[3,4] + cm[4,4] + cm[5,4])\n",
        "        precision[5] += cm[5,5]/(cm[0,5] + cm[1,5] + cm[2,5] + cm[3,5] + cm[4,5] + cm[5,5])\n",
        "\n",
        "    # Print results\n",
        "    print(\"Model: \", model.__class__.__name__)\n",
        "\n",
        "    acc = acc/5\n",
        "    print('Accuracy: ', acc)\n",
        "\n",
        "    precision = precision/5\n",
        "    print('Precision: ', precision)\n",
        "\n",
        "    recall = recall/5\n",
        "    print('Recall: ', recall)\n",
        "\n",
        "    print('\\n')"
      ]
    },
    {
      "cell_type": "code",
      "execution_count": null,
      "metadata": {
        "id": "cxEu5wkOfLHY"
      },
      "outputs": [],
      "source": [
        "# Linear SVM\n",
        "from sklearn import svm\n",
        "svm_model = svm.SVC(kernel='linear')\n",
        "train_model(x, y, svm_model)"
      ]
    },
    {
      "cell_type": "code",
      "execution_count": null,
      "metadata": {
        "id": "zmFeagyifLHZ"
      },
      "outputs": [],
      "source": [
        "# Radial SVM\n",
        "from sklearn import svm\n",
        "svm_model = svm.SVC(kernel='rbf')\n",
        "train_model(x, y, svm_model)"
      ]
    },
    {
      "cell_type": "code",
      "execution_count": null,
      "metadata": {
        "id": "Ab0zr94xfLHZ"
      },
      "outputs": [],
      "source": [
        "# KNN\n",
        "from sklearn.neighbors import KNeighborsClassifier\n",
        "knn_model = KNeighborsClassifier(n_neighbors=5)\n",
        "train_model(x, y, knn_model)"
      ]
    },
    {
      "cell_type": "code",
      "execution_count": null,
      "metadata": {
        "id": "prFd7OULfLHZ"
      },
      "outputs": [],
      "source": [
        "# Decision Tree\n",
        "from sklearn.tree import DecisionTreeClassifier\n",
        "dt_model = DecisionTreeClassifier()\n",
        "train_model(x, y, dt_model)"
      ]
    }
  ],
  "metadata": {
    "kernelspec": {
      "display_name": "Python 3.10.7 64-bit",
      "language": "python",
      "name": "python3"
    },
    "language_info": {
      "codemirror_mode": {
        "name": "ipython",
        "version": 3
      },
      "file_extension": ".py",
      "mimetype": "text/x-python",
      "name": "python",
      "nbconvert_exporter": "python",
      "pygments_lexer": "ipython3",
      "version": "3.10.7"
    },
    "orig_nbformat": 4,
    "vscode": {
      "interpreter": {
        "hash": "675b6d24bb4c0ee360e3c67ebb7cf09ed327ad783031eee38395f7e34ef2a5d6"
      }
    },
    "colab": {
      "provenance": [],
      "include_colab_link": true
    }
  },
  "nbformat": 4,
  "nbformat_minor": 0
}